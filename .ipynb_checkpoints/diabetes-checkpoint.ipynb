{
 "cells": [
  {
   "cell_type": "markdown",
   "id": "405b79fa-f748-4006-bfe8-a220e4ac4f08",
   "metadata": {},
   "source": [
    "This project is designed for Deep Learning with Keras\n",
    "the project will be using data from the National Institute of Diabetes and Digestive and kidney Diseases. \n",
    "I am learning how to do Deep Learning with an Author named Tom Keldenich:\n",
    "https://inside-machinelearning.com/en/first-projec-keras/"
   ]
  },
  {
   "cell_type": "code",
   "execution_count": 2,
   "id": "aa23f630-c3d3-4009-85b2-8ec9e1ebbf10",
   "metadata": {},
   "outputs": [],
   "source": [
    "import pandas as pd"
   ]
  },
  {
   "cell_type": "code",
   "execution_count": 3,
   "id": "1e7cddd6-9c60-44c3-bb7f-555930ac8e95",
   "metadata": {},
   "outputs": [
    {
     "data": {
      "text/html": [
       "<div>\n",
       "<style scoped>\n",
       "    .dataframe tbody tr th:only-of-type {\n",
       "        vertical-align: middle;\n",
       "    }\n",
       "\n",
       "    .dataframe tbody tr th {\n",
       "        vertical-align: top;\n",
       "    }\n",
       "\n",
       "    .dataframe thead th {\n",
       "        text-align: right;\n",
       "    }\n",
       "</style>\n",
       "<table border=\"1\" class=\"dataframe\">\n",
       "  <thead>\n",
       "    <tr style=\"text-align: right;\">\n",
       "      <th></th>\n",
       "      <th>Pregnancies</th>\n",
       "      <th>Glucose</th>\n",
       "      <th>BloodPressure</th>\n",
       "      <th>SkinThickness</th>\n",
       "      <th>Insulin</th>\n",
       "      <th>BMI</th>\n",
       "      <th>DiabetesPedigreeFunction</th>\n",
       "      <th>Age</th>\n",
       "      <th>DiabetesPresence</th>\n",
       "    </tr>\n",
       "  </thead>\n",
       "  <tbody>\n",
       "    <tr>\n",
       "      <th>0</th>\n",
       "      <td>6</td>\n",
       "      <td>148</td>\n",
       "      <td>72</td>\n",
       "      <td>35</td>\n",
       "      <td>0</td>\n",
       "      <td>33.6</td>\n",
       "      <td>0.627</td>\n",
       "      <td>50</td>\n",
       "      <td>1</td>\n",
       "    </tr>\n",
       "    <tr>\n",
       "      <th>1</th>\n",
       "      <td>1</td>\n",
       "      <td>85</td>\n",
       "      <td>66</td>\n",
       "      <td>29</td>\n",
       "      <td>0</td>\n",
       "      <td>26.6</td>\n",
       "      <td>0.351</td>\n",
       "      <td>31</td>\n",
       "      <td>0</td>\n",
       "    </tr>\n",
       "    <tr>\n",
       "      <th>2</th>\n",
       "      <td>8</td>\n",
       "      <td>183</td>\n",
       "      <td>64</td>\n",
       "      <td>0</td>\n",
       "      <td>0</td>\n",
       "      <td>23.3</td>\n",
       "      <td>0.672</td>\n",
       "      <td>32</td>\n",
       "      <td>1</td>\n",
       "    </tr>\n",
       "    <tr>\n",
       "      <th>3</th>\n",
       "      <td>1</td>\n",
       "      <td>89</td>\n",
       "      <td>66</td>\n",
       "      <td>23</td>\n",
       "      <td>94</td>\n",
       "      <td>28.1</td>\n",
       "      <td>0.167</td>\n",
       "      <td>21</td>\n",
       "      <td>0</td>\n",
       "    </tr>\n",
       "    <tr>\n",
       "      <th>4</th>\n",
       "      <td>0</td>\n",
       "      <td>137</td>\n",
       "      <td>40</td>\n",
       "      <td>35</td>\n",
       "      <td>168</td>\n",
       "      <td>43.1</td>\n",
       "      <td>2.288</td>\n",
       "      <td>33</td>\n",
       "      <td>1</td>\n",
       "    </tr>\n",
       "  </tbody>\n",
       "</table>\n",
       "</div>"
      ],
      "text/plain": [
       "   Pregnancies  Glucose  BloodPressure  SkinThickness  Insulin   BMI  \\\n",
       "0            6      148             72             35        0  33.6   \n",
       "1            1       85             66             29        0  26.6   \n",
       "2            8      183             64              0        0  23.3   \n",
       "3            1       89             66             23       94  28.1   \n",
       "4            0      137             40             35      168  43.1   \n",
       "\n",
       "   DiabetesPedigreeFunction  Age  DiabetesPresence  \n",
       "0                     0.627   50                 1  \n",
       "1                     0.351   31                 0  \n",
       "2                     0.672   32                 1  \n",
       "3                     0.167   21                 0  \n",
       "4                     2.288   33                 1  "
      ]
     },
     "execution_count": 3,
     "metadata": {},
     "output_type": "execute_result"
    }
   ],
   "source": [
    "df = pd.read_csv('/Users/guangzhoucai/Desktop/2025summePythonStudy2/First_Project_with_Keras_DeepLearning_main/pima-indian-diabetes.csv')\n",
    "df.head()"
   ]
  },
  {
   "cell_type": "code",
   "execution_count": 4,
   "id": "aecfde73-7b0a-4628-962f-8a2ac1644343",
   "metadata": {},
   "outputs": [],
   "source": [
    "#now extracting features:\n",
    "X = df.loc[:, df.columns != 'DiabetesPresence']\n",
    "Y = df.loc[:, 'DiabetesPresence']\n",
    "#the code simply means for input X feature we are selecting evyerthing rows and coloumns\n",
    "#except for the Label output Y\n",
    "#for Y its just the outcome "
   ]
  },
  {
   "cell_type": "code",
   "execution_count": 5,
   "id": "ab083255-63c0-4bb2-9c2f-138a6e1e465e",
   "metadata": {},
   "outputs": [],
   "source": [
    "from tensorflow.keras.models import Sequential\n",
    "from tensorflow.keras.layers import Dense\n",
    "#we use these two functions for deep learning"
   ]
  },
  {
   "cell_type": "code",
   "execution_count": 6,
   "id": "15cb3281-58df-4d8b-ad8c-c07426835b88",
   "metadata": {},
   "outputs": [],
   "source": [
    "model = Sequential()\n",
    "model.add(Dense(12, input_shape=(8,), activation = 'relu'))\n",
    "model.add(Dense(8, activation= 'relu'))\n",
    "model.add(Dense(1, activation = 'sigmoid'))\n",
    "#four layers  (Feedforwar dNeural Network, Multilayer Perceptron MLP)\n",
    "#input 8 columns and first layer has 12 neurals and so on. "
   ]
  },
  {
   "cell_type": "code",
   "execution_count": 7,
   "id": "5eee3fbd-7c38-4c6a-a4ea-dd3d58edd056",
   "metadata": {},
   "outputs": [],
   "source": [
    "#now compile our model\n",
    "model.compile(loss='binary_crossentropy', optimizer = 'adam', metrics=['accuracy'])\n"
   ]
  },
  {
   "cell_type": "code",
   "execution_count": 8,
   "id": "9366080e-0273-4e09-bf63-1fc065868887",
   "metadata": {},
   "outputs": [],
   "source": [
    "#now training: "
   ]
  },
  {
   "cell_type": "code",
   "execution_count": 9,
   "id": "dcb9664c-1496-48cc-8623-f2483782cd30",
   "metadata": {},
   "outputs": [
    {
     "name": "stdout",
     "output_type": "stream",
     "text": [
      "Epoch 1/100\n",
      "24/24 [==============================] - 0s 519us/step - loss: 1.8518 - accuracy: 0.5938\n",
      "Epoch 2/100\n",
      "24/24 [==============================] - 0s 455us/step - loss: 1.2616 - accuracy: 0.6107\n",
      "Epoch 3/100\n",
      "24/24 [==============================] - 0s 443us/step - loss: 1.0369 - accuracy: 0.6484\n",
      "Epoch 4/100\n",
      "24/24 [==============================] - 0s 424us/step - loss: 0.9124 - accuracy: 0.6497\n",
      "Epoch 5/100\n",
      "24/24 [==============================] - 0s 388us/step - loss: 0.8174 - accuracy: 0.6445\n",
      "Epoch 6/100\n",
      " 1/24 [>.............................] - ETA: 0s - loss: 0.6513 - accuracy: 0.7188"
     ]
    },
    {
     "name": "stderr",
     "output_type": "stream",
     "text": [
      "2025-07-17 12:04:18.448825: W tensorflow/tsl/platform/profile_utils/cpu_utils.cc:128] Failed to get CPU frequency: 0 Hz\n"
     ]
    },
    {
     "name": "stdout",
     "output_type": "stream",
     "text": [
      "24/24 [==============================] - 0s 396us/step - loss: 0.7736 - accuracy: 0.6328\n",
      "Epoch 7/100\n",
      "24/24 [==============================] - 0s 407us/step - loss: 0.7127 - accuracy: 0.6406\n",
      "Epoch 8/100\n",
      "24/24 [==============================] - 0s 382us/step - loss: 0.7006 - accuracy: 0.6654\n",
      "Epoch 9/100\n",
      "24/24 [==============================] - 0s 376us/step - loss: 0.6485 - accuracy: 0.6862\n",
      "Epoch 10/100\n",
      "24/24 [==============================] - 0s 421us/step - loss: 0.6425 - accuracy: 0.6706\n",
      "Epoch 11/100\n",
      "24/24 [==============================] - 0s 391us/step - loss: 0.6381 - accuracy: 0.6875\n",
      "Epoch 12/100\n",
      "24/24 [==============================] - 0s 383us/step - loss: 0.6365 - accuracy: 0.6771\n",
      "Epoch 13/100\n",
      "24/24 [==============================] - 0s 410us/step - loss: 0.6509 - accuracy: 0.6628\n",
      "Epoch 14/100\n",
      "24/24 [==============================] - 0s 386us/step - loss: 0.6333 - accuracy: 0.6797\n",
      "Epoch 15/100\n",
      "24/24 [==============================] - 0s 386us/step - loss: 0.6395 - accuracy: 0.6641\n",
      "Epoch 16/100\n",
      "24/24 [==============================] - 0s 392us/step - loss: 0.6141 - accuracy: 0.6992\n",
      "Epoch 17/100\n",
      "24/24 [==============================] - 0s 390us/step - loss: 0.6251 - accuracy: 0.6758\n",
      "Epoch 18/100\n",
      "24/24 [==============================] - 0s 394us/step - loss: 0.6164 - accuracy: 0.6771\n",
      "Epoch 19/100\n",
      "24/24 [==============================] - 0s 397us/step - loss: 0.6101 - accuracy: 0.6888\n",
      "Epoch 20/100\n",
      "24/24 [==============================] - 0s 380us/step - loss: 0.6086 - accuracy: 0.6940\n",
      "Epoch 21/100\n",
      "24/24 [==============================] - 0s 368us/step - loss: 0.6033 - accuracy: 0.6979\n",
      "Epoch 22/100\n",
      "24/24 [==============================] - 0s 380us/step - loss: 0.6037 - accuracy: 0.6849\n",
      "Epoch 23/100\n",
      "24/24 [==============================] - 0s 375us/step - loss: 0.5991 - accuracy: 0.6914\n",
      "Epoch 24/100\n",
      "24/24 [==============================] - 0s 382us/step - loss: 0.6018 - accuracy: 0.6927\n",
      "Epoch 25/100\n",
      "24/24 [==============================] - 0s 376us/step - loss: 0.6010 - accuracy: 0.6875\n",
      "Epoch 26/100\n",
      "24/24 [==============================] - 0s 380us/step - loss: 0.6256 - accuracy: 0.6615\n",
      "Epoch 27/100\n",
      "24/24 [==============================] - 0s 389us/step - loss: 0.6016 - accuracy: 0.6849\n",
      "Epoch 28/100\n",
      "24/24 [==============================] - 0s 379us/step - loss: 0.6192 - accuracy: 0.6810\n",
      "Epoch 29/100\n",
      "24/24 [==============================] - 0s 391us/step - loss: 0.5946 - accuracy: 0.6992\n",
      "Epoch 30/100\n",
      "24/24 [==============================] - 0s 401us/step - loss: 0.5862 - accuracy: 0.7005\n",
      "Epoch 31/100\n",
      "24/24 [==============================] - 0s 395us/step - loss: 0.5783 - accuracy: 0.7083\n",
      "Epoch 32/100\n",
      "24/24 [==============================] - 0s 399us/step - loss: 0.5854 - accuracy: 0.6862\n",
      "Epoch 33/100\n",
      "24/24 [==============================] - 0s 379us/step - loss: 0.5950 - accuracy: 0.6992\n",
      "Epoch 34/100\n",
      "24/24 [==============================] - 0s 397us/step - loss: 0.5722 - accuracy: 0.7044\n",
      "Epoch 35/100\n",
      "24/24 [==============================] - 0s 387us/step - loss: 0.6047 - accuracy: 0.7005\n",
      "Epoch 36/100\n",
      "24/24 [==============================] - 0s 375us/step - loss: 0.6006 - accuracy: 0.6888\n",
      "Epoch 37/100\n",
      "24/24 [==============================] - 0s 397us/step - loss: 0.5664 - accuracy: 0.7122\n",
      "Epoch 38/100\n",
      "24/24 [==============================] - 0s 391us/step - loss: 0.5881 - accuracy: 0.7031\n",
      "Epoch 39/100\n",
      "24/24 [==============================] - 0s 376us/step - loss: 0.5780 - accuracy: 0.7148\n",
      "Epoch 40/100\n",
      "24/24 [==============================] - 0s 388us/step - loss: 0.5883 - accuracy: 0.6940\n",
      "Epoch 41/100\n",
      "24/24 [==============================] - 0s 374us/step - loss: 0.5766 - accuracy: 0.7005\n",
      "Epoch 42/100\n",
      "24/24 [==============================] - 0s 384us/step - loss: 0.5633 - accuracy: 0.7188\n",
      "Epoch 43/100\n",
      "24/24 [==============================] - 0s 400us/step - loss: 0.5727 - accuracy: 0.7031\n",
      "Epoch 44/100\n",
      "24/24 [==============================] - 0s 384us/step - loss: 0.5575 - accuracy: 0.7201\n",
      "Epoch 45/100\n",
      "24/24 [==============================] - 0s 374us/step - loss: 0.5692 - accuracy: 0.7031\n",
      "Epoch 46/100\n",
      "24/24 [==============================] - 0s 1ms/step - loss: 0.5673 - accuracy: 0.7161\n",
      "Epoch 47/100\n",
      "24/24 [==============================] - 0s 382us/step - loss: 0.5772 - accuracy: 0.7279\n",
      "Epoch 48/100\n",
      "24/24 [==============================] - 0s 417us/step - loss: 0.5493 - accuracy: 0.7357\n",
      "Epoch 49/100\n",
      "24/24 [==============================] - 0s 396us/step - loss: 0.5649 - accuracy: 0.7096\n",
      "Epoch 50/100\n",
      "24/24 [==============================] - 0s 387us/step - loss: 0.5441 - accuracy: 0.7214\n",
      "Epoch 51/100\n",
      "24/24 [==============================] - 0s 382us/step - loss: 0.5491 - accuracy: 0.7344\n",
      "Epoch 52/100\n",
      "24/24 [==============================] - 0s 416us/step - loss: 0.5494 - accuracy: 0.7279\n",
      "Epoch 53/100\n",
      "24/24 [==============================] - 0s 396us/step - loss: 0.5708 - accuracy: 0.7096\n",
      "Epoch 54/100\n",
      "24/24 [==============================] - 0s 391us/step - loss: 0.5565 - accuracy: 0.7109\n",
      "Epoch 55/100\n",
      "24/24 [==============================] - 0s 391us/step - loss: 0.5467 - accuracy: 0.7266\n",
      "Epoch 56/100\n",
      "24/24 [==============================] - 0s 391us/step - loss: 0.5643 - accuracy: 0.7109\n",
      "Epoch 57/100\n",
      "24/24 [==============================] - 0s 367us/step - loss: 0.5650 - accuracy: 0.7161\n",
      "Epoch 58/100\n",
      "24/24 [==============================] - 0s 388us/step - loss: 0.5375 - accuracy: 0.7305\n",
      "Epoch 59/100\n",
      "24/24 [==============================] - 0s 374us/step - loss: 0.5563 - accuracy: 0.7292\n",
      "Epoch 60/100\n",
      "24/24 [==============================] - 0s 368us/step - loss: 0.5402 - accuracy: 0.7292\n",
      "Epoch 61/100\n",
      "24/24 [==============================] - 0s 379us/step - loss: 0.5511 - accuracy: 0.7240\n",
      "Epoch 62/100\n",
      "24/24 [==============================] - 0s 376us/step - loss: 0.5636 - accuracy: 0.7201\n",
      "Epoch 63/100\n",
      "24/24 [==============================] - 0s 384us/step - loss: 0.5520 - accuracy: 0.7109\n",
      "Epoch 64/100\n",
      "24/24 [==============================] - 0s 372us/step - loss: 0.5548 - accuracy: 0.7161\n",
      "Epoch 65/100\n",
      "24/24 [==============================] - 0s 399us/step - loss: 0.5369 - accuracy: 0.7383\n",
      "Epoch 66/100\n",
      "24/24 [==============================] - 0s 372us/step - loss: 0.5424 - accuracy: 0.7279\n",
      "Epoch 67/100\n",
      "24/24 [==============================] - 0s 362us/step - loss: 0.5460 - accuracy: 0.7227\n",
      "Epoch 68/100\n",
      "24/24 [==============================] - 0s 382us/step - loss: 0.5333 - accuracy: 0.7357\n",
      "Epoch 69/100\n",
      "24/24 [==============================] - 0s 385us/step - loss: 0.5378 - accuracy: 0.7396\n",
      "Epoch 70/100\n",
      "24/24 [==============================] - 0s 389us/step - loss: 0.5449 - accuracy: 0.7161\n",
      "Epoch 71/100\n",
      "24/24 [==============================] - 0s 368us/step - loss: 0.5319 - accuracy: 0.7448\n",
      "Epoch 72/100\n",
      "24/24 [==============================] - 0s 359us/step - loss: 0.5744 - accuracy: 0.7279\n",
      "Epoch 73/100\n",
      "24/24 [==============================] - 0s 374us/step - loss: 0.5309 - accuracy: 0.7422\n",
      "Epoch 74/100\n",
      "24/24 [==============================] - 0s 369us/step - loss: 0.5211 - accuracy: 0.7474\n",
      "Epoch 75/100\n",
      "24/24 [==============================] - 0s 381us/step - loss: 0.5248 - accuracy: 0.7474\n",
      "Epoch 76/100\n",
      "24/24 [==============================] - 0s 415us/step - loss: 0.5261 - accuracy: 0.7448\n",
      "Epoch 77/100\n",
      "24/24 [==============================] - 0s 421us/step - loss: 0.5210 - accuracy: 0.7305\n",
      "Epoch 78/100\n",
      "24/24 [==============================] - 0s 399us/step - loss: 0.5549 - accuracy: 0.7266\n",
      "Epoch 79/100\n",
      "24/24 [==============================] - 0s 382us/step - loss: 0.5484 - accuracy: 0.7240\n",
      "Epoch 80/100\n",
      "24/24 [==============================] - 0s 370us/step - loss: 0.5418 - accuracy: 0.7370\n",
      "Epoch 81/100\n",
      "24/24 [==============================] - 0s 377us/step - loss: 0.5286 - accuracy: 0.7435\n",
      "Epoch 82/100\n",
      "24/24 [==============================] - 0s 369us/step - loss: 0.5361 - accuracy: 0.7240\n",
      "Epoch 83/100\n",
      "24/24 [==============================] - 0s 382us/step - loss: 0.5286 - accuracy: 0.7422\n",
      "Epoch 84/100\n",
      "24/24 [==============================] - 0s 403us/step - loss: 0.5379 - accuracy: 0.7357\n",
      "Epoch 85/100\n",
      "24/24 [==============================] - 0s 389us/step - loss: 0.5317 - accuracy: 0.7357\n",
      "Epoch 86/100\n",
      "24/24 [==============================] - 0s 381us/step - loss: 0.5156 - accuracy: 0.7604\n",
      "Epoch 87/100\n",
      "24/24 [==============================] - 0s 384us/step - loss: 0.5369 - accuracy: 0.7357\n",
      "Epoch 88/100\n",
      "24/24 [==============================] - 0s 382us/step - loss: 0.5368 - accuracy: 0.7305\n",
      "Epoch 89/100\n",
      "24/24 [==============================] - 0s 385us/step - loss: 0.5348 - accuracy: 0.7214\n",
      "Epoch 90/100\n",
      "24/24 [==============================] - 0s 383us/step - loss: 0.5163 - accuracy: 0.7565\n",
      "Epoch 91/100\n",
      "24/24 [==============================] - 0s 401us/step - loss: 0.5147 - accuracy: 0.7695\n",
      "Epoch 92/100\n",
      "24/24 [==============================] - 0s 365us/step - loss: 0.5222 - accuracy: 0.7435\n",
      "Epoch 93/100\n",
      "24/24 [==============================] - 0s 359us/step - loss: 0.5234 - accuracy: 0.7630\n",
      "Epoch 94/100\n",
      "24/24 [==============================] - 0s 404us/step - loss: 0.5097 - accuracy: 0.7643\n",
      "Epoch 95/100\n",
      "24/24 [==============================] - 0s 398us/step - loss: 0.5109 - accuracy: 0.7565\n",
      "Epoch 96/100\n",
      "24/24 [==============================] - 0s 355us/step - loss: 0.5152 - accuracy: 0.7591\n",
      "Epoch 97/100\n",
      "24/24 [==============================] - 0s 379us/step - loss: 0.5148 - accuracy: 0.7500\n",
      "Epoch 98/100\n",
      "24/24 [==============================] - 0s 388us/step - loss: 0.5269 - accuracy: 0.7435\n",
      "Epoch 99/100\n",
      "24/24 [==============================] - 0s 359us/step - loss: 0.5188 - accuracy: 0.7526\n",
      "Epoch 100/100\n",
      "24/24 [==============================] - 0s 365us/step - loss: 0.5261 - accuracy: 0.7344\n"
     ]
    },
    {
     "data": {
      "text/plain": [
       "<keras.callbacks.History at 0x17e88d5a0>"
      ]
     },
     "execution_count": 9,
     "metadata": {},
     "output_type": "execute_result"
    }
   ],
   "source": [
    "model.fit(X,Y, epochs = 100)"
   ]
  },
  {
   "cell_type": "code",
   "execution_count": 10,
   "id": "66ba3031-b03e-4633-b735-f764815bb85a",
   "metadata": {},
   "outputs": [
    {
     "name": "stdout",
     "output_type": "stream",
     "text": [
      "24/24 [==============================] - 0s 396us/step - loss: 0.5004 - accuracy: 0.7721\n",
      "Accuracy: 77.21\n"
     ]
    }
   ],
   "source": [
    "_, accuracy = model.evaluate(X, Y)\n",
    "print('Accuracy: %.2f' % (accuracy*100))"
   ]
  },
  {
   "cell_type": "code",
   "execution_count": 11,
   "id": "a6ba6469-2778-4579-bac8-cd79ca484d86",
   "metadata": {},
   "outputs": [],
   "source": [
    "#not bad but its not perfect!\n",
    "#basically we need to have to create two datasets in order to generalize\n",
    "#currently we only have 789 rows (789 patients) \n",
    "#80% training and 20% testing"
   ]
  },
  {
   "cell_type": "code",
   "execution_count": 12,
   "id": "93f059de-4f74-4f37-a51b-beb3c1ad769b",
   "metadata": {},
   "outputs": [],
   "source": [
    "df_train = df.sample(frac = 0.8)#data shuffled\n",
    "df_test = df.drop(df_train.index)"
   ]
  },
  {
   "cell_type": "code",
   "execution_count": 13,
   "id": "2494d523-1318-4fb5-b30b-64b53d5a2029",
   "metadata": {},
   "outputs": [
    {
     "data": {
      "text/html": [
       "<div>\n",
       "<style scoped>\n",
       "    .dataframe tbody tr th:only-of-type {\n",
       "        vertical-align: middle;\n",
       "    }\n",
       "\n",
       "    .dataframe tbody tr th {\n",
       "        vertical-align: top;\n",
       "    }\n",
       "\n",
       "    .dataframe thead th {\n",
       "        text-align: right;\n",
       "    }\n",
       "</style>\n",
       "<table border=\"1\" class=\"dataframe\">\n",
       "  <thead>\n",
       "    <tr style=\"text-align: right;\">\n",
       "      <th></th>\n",
       "      <th>Pregnancies</th>\n",
       "      <th>Glucose</th>\n",
       "      <th>BloodPressure</th>\n",
       "      <th>SkinThickness</th>\n",
       "      <th>Insulin</th>\n",
       "      <th>BMI</th>\n",
       "      <th>DiabetesPedigreeFunction</th>\n",
       "      <th>Age</th>\n",
       "      <th>DiabetesPresence</th>\n",
       "    </tr>\n",
       "  </thead>\n",
       "  <tbody>\n",
       "    <tr>\n",
       "      <th>93</th>\n",
       "      <td>4</td>\n",
       "      <td>134</td>\n",
       "      <td>72</td>\n",
       "      <td>0</td>\n",
       "      <td>0</td>\n",
       "      <td>23.8</td>\n",
       "      <td>0.277</td>\n",
       "      <td>60</td>\n",
       "      <td>1</td>\n",
       "    </tr>\n",
       "    <tr>\n",
       "      <th>604</th>\n",
       "      <td>4</td>\n",
       "      <td>183</td>\n",
       "      <td>0</td>\n",
       "      <td>0</td>\n",
       "      <td>0</td>\n",
       "      <td>28.4</td>\n",
       "      <td>0.212</td>\n",
       "      <td>36</td>\n",
       "      <td>1</td>\n",
       "    </tr>\n",
       "    <tr>\n",
       "      <th>403</th>\n",
       "      <td>9</td>\n",
       "      <td>72</td>\n",
       "      <td>78</td>\n",
       "      <td>25</td>\n",
       "      <td>0</td>\n",
       "      <td>31.6</td>\n",
       "      <td>0.280</td>\n",
       "      <td>38</td>\n",
       "      <td>0</td>\n",
       "    </tr>\n",
       "    <tr>\n",
       "      <th>151</th>\n",
       "      <td>4</td>\n",
       "      <td>114</td>\n",
       "      <td>65</td>\n",
       "      <td>0</td>\n",
       "      <td>0</td>\n",
       "      <td>21.9</td>\n",
       "      <td>0.432</td>\n",
       "      <td>37</td>\n",
       "      <td>0</td>\n",
       "    </tr>\n",
       "    <tr>\n",
       "      <th>617</th>\n",
       "      <td>2</td>\n",
       "      <td>68</td>\n",
       "      <td>62</td>\n",
       "      <td>13</td>\n",
       "      <td>15</td>\n",
       "      <td>20.1</td>\n",
       "      <td>0.257</td>\n",
       "      <td>23</td>\n",
       "      <td>0</td>\n",
       "    </tr>\n",
       "  </tbody>\n",
       "</table>\n",
       "</div>"
      ],
      "text/plain": [
       "     Pregnancies  Glucose  BloodPressure  SkinThickness  Insulin   BMI  \\\n",
       "93             4      134             72              0        0  23.8   \n",
       "604            4      183              0              0        0  28.4   \n",
       "403            9       72             78             25        0  31.6   \n",
       "151            4      114             65              0        0  21.9   \n",
       "617            2       68             62             13       15  20.1   \n",
       "\n",
       "     DiabetesPedigreeFunction  Age  DiabetesPresence  \n",
       "93                      0.277   60                 1  \n",
       "604                     0.212   36                 1  \n",
       "403                     0.280   38                 0  \n",
       "151                     0.432   37                 0  \n",
       "617                     0.257   23                 0  "
      ]
     },
     "execution_count": 13,
     "metadata": {},
     "output_type": "execute_result"
    }
   ],
   "source": [
    "df_train.head()"
   ]
  },
  {
   "cell_type": "code",
   "execution_count": 14,
   "id": "eded072b-87dd-459b-81ae-d7511ddd584a",
   "metadata": {},
   "outputs": [],
   "source": [
    "X_train = df_train.loc[:, df.columns != 'DiabetesPresence']\n",
    "Y_train = df_train.loc[:, 'DiabetesPresence']\n",
    "X_test = df_test.loc[:, df.columns != 'DiabetesPresence']\n",
    "Y_test = df_test.loc[:, 'DiabetesPresence']"
   ]
  },
  {
   "cell_type": "code",
   "execution_count": 15,
   "id": "577d86f5-0b84-4427-b9b3-c69a69014570",
   "metadata": {},
   "outputs": [],
   "source": [
    "model = Sequential()\n",
    "model.add(Dense(12, input_shape=(8,), activation='relu'))\n",
    "model.add(Dense(8, activation='relu'))\n",
    "model.add(Dense(1, activation='sigmoid'))"
   ]
  },
  {
   "cell_type": "code",
   "execution_count": 16,
   "id": "0e868f98-2d23-4671-a81a-94a731fbabb5",
   "metadata": {},
   "outputs": [
    {
     "data": {
      "image/png": "[encoded data removed]",
      "text/plain": [
       "<IPython.core.display.Image object>"
      ]
     },
     "execution_count": 16,
     "metadata": {},
     "output_type": "execute_result"
    }
   ],
   "source": [
    "from tensorflow.keras.utils import plot_model\n",
    "\n",
    "plot_model(model, to_file=\"model.png\", show_shapes=True, show_layer_names=False, show_layer_activations=True)"
   ]
  },
  {
   "cell_type": "code",
   "execution_count": 17,
   "id": "db0c74d8-2742-44bc-be95-74b983573dc4",
   "metadata": {},
   "outputs": [],
   "source": [
    "model.compile(loss = 'binary_crossentropy', optimizer = 'adam', metrics = ['accuracy'])"
   ]
  },
  {
   "cell_type": "code",
   "execution_count": 18,
   "id": "8c6bc6e1-e3ef-4a2f-b3ad-609b8ccdbeb0",
   "metadata": {},
   "outputs": [],
   "source": [
    "#also we need to separate the training  into trianing and validation sets before\n",
    "#going into testing phase\n"
   ]
  },
  {
   "cell_type": "code",
   "execution_count": 19,
   "id": "deeed217-0468-4624-9ba6-55b63fb3bf97",
   "metadata": {},
   "outputs": [
    {
     "name": "stdout",
     "output_type": "stream",
     "text": [
      "Epoch 1/50\n",
      "50/50 [==============================] - 0s 2ms/step - loss: 10.0926 - accuracy: 0.5743 - val_loss: 3.9074 - val_accuracy: 0.6260\n",
      "Epoch 2/50\n",
      "50/50 [==============================] - 0s 686us/step - loss: 2.3117 - accuracy: 0.6640 - val_loss: 2.3279 - val_accuracy: 0.6748\n",
      "Epoch 3/50\n",
      "50/50 [==============================] - 0s 617us/step - loss: 1.6011 - accuracy: 0.6843 - val_loss: 1.9273 - val_accuracy: 0.6667\n",
      "Epoch 4/50\n",
      "50/50 [==============================] - 0s 633us/step - loss: 1.4351 - accuracy: 0.6741 - val_loss: 2.0859 - val_accuracy: 0.6585\n",
      "Epoch 5/50\n",
      "50/50 [==============================] - 0s 666us/step - loss: 1.2519 - accuracy: 0.6721 - val_loss: 1.6024 - val_accuracy: 0.6667\n",
      "Epoch 6/50\n",
      "50/50 [==============================] - 0s 665us/step - loss: 1.0914 - accuracy: 0.6823 - val_loss: 1.3289 - val_accuracy: 0.6829\n",
      "Epoch 7/50\n",
      "50/50 [==============================] - 0s 646us/step - loss: 1.0099 - accuracy: 0.6884 - val_loss: 1.5644 - val_accuracy: 0.6341\n",
      "Epoch 8/50\n",
      "50/50 [==============================] - 0s 596us/step - loss: 0.9574 - accuracy: 0.6578 - val_loss: 1.3532 - val_accuracy: 0.6260\n",
      "Epoch 9/50\n",
      "50/50 [==============================] - 0s 600us/step - loss: 0.8680 - accuracy: 0.6945 - val_loss: 1.5411 - val_accuracy: 0.6423\n",
      "Epoch 10/50\n",
      "50/50 [==============================] - 0s 651us/step - loss: 0.8733 - accuracy: 0.6802 - val_loss: 1.0941 - val_accuracy: 0.6179\n",
      "Epoch 11/50\n",
      "50/50 [==============================] - 0s 595us/step - loss: 0.9989 - accuracy: 0.6599 - val_loss: 1.3039 - val_accuracy: 0.6504\n",
      "Epoch 12/50\n",
      "50/50 [==============================] - 0s 590us/step - loss: 0.8512 - accuracy: 0.6538 - val_loss: 1.0198 - val_accuracy: 0.6504\n",
      "Epoch 13/50\n",
      "50/50 [==============================] - 0s 591us/step - loss: 0.8144 - accuracy: 0.6599 - val_loss: 0.9991 - val_accuracy: 0.6098\n",
      "Epoch 14/50\n",
      "50/50 [==============================] - 0s 592us/step - loss: 0.7628 - accuracy: 0.6925 - val_loss: 1.0277 - val_accuracy: 0.6260\n",
      "Epoch 15/50\n",
      "50/50 [==============================] - 0s 598us/step - loss: 0.7515 - accuracy: 0.6884 - val_loss: 0.9016 - val_accuracy: 0.6179\n",
      "Epoch 16/50\n",
      "50/50 [==============================] - 0s 595us/step - loss: 0.8668 - accuracy: 0.6578 - val_loss: 0.9882 - val_accuracy: 0.6098\n",
      "Epoch 17/50\n",
      "50/50 [==============================] - 0s 598us/step - loss: 0.7443 - accuracy: 0.6497 - val_loss: 0.8738 - val_accuracy: 0.6341\n",
      "Epoch 18/50\n",
      "50/50 [==============================] - 0s 587us/step - loss: 0.8333 - accuracy: 0.6599 - val_loss: 1.0447 - val_accuracy: 0.6179\n",
      "Epoch 19/50\n",
      "50/50 [==============================] - 0s 594us/step - loss: 0.7129 - accuracy: 0.6823 - val_loss: 0.8900 - val_accuracy: 0.5854\n",
      "Epoch 20/50\n",
      "50/50 [==============================] - 0s 595us/step - loss: 0.7640 - accuracy: 0.6640 - val_loss: 0.8199 - val_accuracy: 0.6585\n",
      "Epoch 21/50\n",
      "50/50 [==============================] - 0s 589us/step - loss: 0.8481 - accuracy: 0.6456 - val_loss: 0.9438 - val_accuracy: 0.5366\n",
      "Epoch 22/50\n",
      "50/50 [==============================] - 0s 586us/step - loss: 0.7777 - accuracy: 0.6517 - val_loss: 0.9386 - val_accuracy: 0.5854\n",
      "Epoch 23/50\n",
      "50/50 [==============================] - 0s 624us/step - loss: 0.7168 - accuracy: 0.6578 - val_loss: 1.0497 - val_accuracy: 0.6341\n",
      "Epoch 24/50\n",
      "50/50 [==============================] - 0s 631us/step - loss: 0.6938 - accuracy: 0.6619 - val_loss: 0.9033 - val_accuracy: 0.6098\n",
      "Epoch 25/50\n",
      "50/50 [==============================] - 0s 632us/step - loss: 0.6693 - accuracy: 0.6864 - val_loss: 0.7840 - val_accuracy: 0.6341\n",
      "Epoch 26/50\n",
      "50/50 [==============================] - 0s 608us/step - loss: 0.6792 - accuracy: 0.6904 - val_loss: 0.7981 - val_accuracy: 0.6504\n",
      "Epoch 27/50\n",
      "50/50 [==============================] - 0s 591us/step - loss: 0.6572 - accuracy: 0.7006 - val_loss: 0.8955 - val_accuracy: 0.6260\n",
      "Epoch 28/50\n",
      "50/50 [==============================] - 0s 597us/step - loss: 0.7123 - accuracy: 0.6721 - val_loss: 0.7760 - val_accuracy: 0.6748\n",
      "Epoch 29/50\n",
      "50/50 [==============================] - 0s 593us/step - loss: 0.6601 - accuracy: 0.6843 - val_loss: 0.7987 - val_accuracy: 0.6260\n",
      "Epoch 30/50\n",
      "50/50 [==============================] - 0s 591us/step - loss: 0.6722 - accuracy: 0.6762 - val_loss: 0.7495 - val_accuracy: 0.6260\n",
      "Epoch 31/50\n",
      "50/50 [==============================] - 0s 590us/step - loss: 0.6754 - accuracy: 0.6762 - val_loss: 0.7444 - val_accuracy: 0.6260\n",
      "Epoch 32/50\n",
      "50/50 [==============================] - 0s 601us/step - loss: 0.6762 - accuracy: 0.6965 - val_loss: 0.8078 - val_accuracy: 0.6179\n",
      "Epoch 33/50\n",
      "50/50 [==============================] - 0s 592us/step - loss: 0.6591 - accuracy: 0.6864 - val_loss: 0.8234 - val_accuracy: 0.6341\n",
      "Epoch 34/50\n",
      "50/50 [==============================] - 0s 593us/step - loss: 0.7149 - accuracy: 0.6741 - val_loss: 0.8804 - val_accuracy: 0.5935\n",
      "Epoch 35/50\n",
      "50/50 [==============================] - 0s 607us/step - loss: 0.6880 - accuracy: 0.6680 - val_loss: 0.7468 - val_accuracy: 0.6341\n",
      "Epoch 36/50\n",
      "50/50 [==============================] - 0s 638us/step - loss: 0.6741 - accuracy: 0.6925 - val_loss: 0.8080 - val_accuracy: 0.6179\n",
      "Epoch 37/50\n",
      "50/50 [==============================] - 0s 629us/step - loss: 0.7132 - accuracy: 0.6904 - val_loss: 0.7751 - val_accuracy: 0.6423\n",
      "Epoch 38/50\n",
      "50/50 [==============================] - 0s 629us/step - loss: 0.6824 - accuracy: 0.6640 - val_loss: 1.0912 - val_accuracy: 0.6504\n",
      "Epoch 39/50\n",
      "50/50 [==============================] - 0s 624us/step - loss: 0.6513 - accuracy: 0.6701 - val_loss: 0.7949 - val_accuracy: 0.6341\n",
      "Epoch 40/50\n",
      "50/50 [==============================] - 0s 636us/step - loss: 0.6313 - accuracy: 0.7128 - val_loss: 1.0453 - val_accuracy: 0.6341\n",
      "Epoch 41/50\n",
      "50/50 [==============================] - 0s 595us/step - loss: 0.6685 - accuracy: 0.6904 - val_loss: 0.7405 - val_accuracy: 0.6179\n",
      "Epoch 42/50\n",
      "50/50 [==============================] - 0s 596us/step - loss: 0.6322 - accuracy: 0.6721 - val_loss: 0.7426 - val_accuracy: 0.6423\n",
      "Epoch 43/50\n",
      "50/50 [==============================] - 0s 592us/step - loss: 0.6082 - accuracy: 0.7047 - val_loss: 0.7486 - val_accuracy: 0.6260\n",
      "Epoch 44/50\n",
      "50/50 [==============================] - 0s 589us/step - loss: 0.6160 - accuracy: 0.6762 - val_loss: 0.7112 - val_accuracy: 0.6748\n",
      "Epoch 45/50\n",
      "50/50 [==============================] - 0s 588us/step - loss: 0.6512 - accuracy: 0.6884 - val_loss: 0.7483 - val_accuracy: 0.6667\n",
      "Epoch 46/50\n",
      "50/50 [==============================] - 0s 594us/step - loss: 0.6176 - accuracy: 0.7088 - val_loss: 0.7003 - val_accuracy: 0.6423\n",
      "Epoch 47/50\n",
      "50/50 [==============================] - 0s 587us/step - loss: 0.6219 - accuracy: 0.6965 - val_loss: 0.9591 - val_accuracy: 0.6667\n",
      "Epoch 48/50\n",
      "50/50 [==============================] - 0s 588us/step - loss: 0.6657 - accuracy: 0.6864 - val_loss: 0.7585 - val_accuracy: 0.6260\n",
      "Epoch 49/50\n",
      "50/50 [==============================] - 0s 597us/step - loss: 0.6179 - accuracy: 0.7026 - val_loss: 0.8599 - val_accuracy: 0.6667\n",
      "Epoch 50/50\n",
      "50/50 [==============================] - 0s 597us/step - loss: 0.5955 - accuracy: 0.7210 - val_loss: 0.7856 - val_accuracy: 0.6667\n"
     ]
    }
   ],
   "source": [
    "history = model.fit(X_train, Y_train, validation_split=0.2, epochs=50, batch_size=10)\n"
   ]
  },
  {
   "cell_type": "code",
   "execution_count": 20,
   "id": "b8fb3e8e-4230-4610-875b-8ed8eb546409",
   "metadata": {},
   "outputs": [],
   "source": [
    "#now we can plot and see it visually"
   ]
  },
  {
   "cell_type": "code",
   "execution_count": 21,
   "id": "fd12e330-a433-49f8-a680-47db0306f574",
   "metadata": {},
   "outputs": [],
   "source": [
    "from matplotlib import pyplot as plt"
   ]
  },
  {
   "cell_type": "code",
   "execution_count": 22,
   "id": "ef4f6273-256f-4117-9758-5a07086ce938",
   "metadata": {},
   "outputs": [
    {
     "data": {
      "image/png": "[encoded data removed]",
      "text/plain": [
       "<Figure size 640x480 with 1 Axes>"
      ]
     },
     "metadata": {},
     "output_type": "display_data"
    }
   ],
   "source": [
    "plt.plot(history.history['accuracy'], color = '#066b8b')\n",
    "plt.plot(history.history['val_accuracy'], color ='#b39200')\n",
    "plt.title('model accuracy')\n",
    "plt.ylabel('accuracy')\n",
    "plt.xlabel('epoch')\n",
    "plt.legend(['train', 'val'], loc = 'upper left')\n",
    "plt.show()"
   ]
  },
  {
   "cell_type": "code",
   "execution_count": 23,
   "id": "f03dca26-15a1-47e7-a031-77fe3ab2299e",
   "metadata": {},
   "outputs": [],
   "source": [
    "#as we can see that the model learned well and both curves went up, but its unusual\n",
    "#to see the validation curve above the training "
   ]
  },
  {
   "cell_type": "code",
   "execution_count": 24,
   "id": "f635501c-097f-4974-86a4-b600a7c79b75",
   "metadata": {},
   "outputs": [
    {
     "name": "stdout",
     "output_type": "stream",
     "text": [
      "5/5 [==============================] - 0s 529us/step\n"
     ]
    },
    {
     "data": {
      "text/plain": [
       "array([0.04680769], dtype=float32)"
      ]
     },
     "execution_count": 24,
     "metadata": {},
     "output_type": "execute_result"
    }
   ],
   "source": [
    "#to see the predicitons (tests) we do:\n",
    "predictions = model.predict(X_test)\n",
    "predictions[0]"
   ]
  },
  {
   "cell_type": "code",
   "execution_count": null,
   "id": "1106a08b-168f-4ac8-a053-b2f3b9b5e84e",
   "metadata": {},
   "outputs": [],
   "source": [
    "#95.4% confident that this [0] patient doesnt have diabetes"
   ]
  },
  {
   "cell_type": "code",
   "execution_count": 25,
   "id": "4cb0d345-da02-4f08-8205-e314ae50eddc",
   "metadata": {},
   "outputs": [
    {
     "name": "stdout",
     "output_type": "stream",
     "text": [
      "5/5 [==============================] - 0s 697us/step\n"
     ]
    }
   ],
   "source": [
    "predictions = (model.predict(X_test) > 0.5).astype(int)\n",
    "#Let's have only ones and zeros to represent the presence of diabetes \n",
    "#Instead of having probabilities"
   ]
  },
  {
   "cell_type": "code",
   "execution_count": 26,
   "id": "f215e2c2-1c28-450d-a548-f5a1cbe8e5cd",
   "metadata": {},
   "outputs": [
    {
     "name": "stdout",
     "output_type": "stream",
     "text": [
      "[1.0, 89.0, 66.0, 23.0, 94.0, 28.1, 0.167, 21.0] => Predicted : 0,  Expected : 0\n",
      "[7.0, 100.0, 0.0, 0.0, 0.0, 30.0, 0.484, 32.0] => Predicted : 1,  Expected : 1\n",
      "[7.0, 107.0, 74.0, 0.0, 0.0, 29.6, 0.254, 31.0] => Predicted : 0,  Expected : 1\n",
      "[1.0, 115.0, 70.0, 30.0, 96.0, 34.6, 0.529, 32.0] => Predicted : 0,  Expected : 1\n",
      "[7.0, 196.0, 90.0, 0.0, 0.0, 39.8, 0.451, 41.0] => Predicted : 0,  Expected : 1\n"
     ]
    }
   ],
   "source": [
    "for i in range(5):\n",
    "\tprint('%s => Predicted : %d,  Expected : %d' % (X_test.iloc[i].tolist(), predictions[i], Y_test.iloc[i]))"
   ]
  },
  {
   "cell_type": "code",
   "execution_count": null,
   "id": "07e3d481-9645-40bb-8c15-894d0d404d26",
   "metadata": {},
   "outputs": [],
   "source": [
    "# to me it looks like that the model doesn't really predict or perform well"
   ]
  },
  {
   "cell_type": "code",
   "execution_count": 27,
   "id": "b9b997f6-1ae5-4287-94e4-0ed9546af3e8",
   "metadata": {},
   "outputs": [
    {
     "name": "stdout",
     "output_type": "stream",
     "text": [
      "5/5 [==============================] - 0s 983us/step - loss: 0.7555 - accuracy: 0.6688\n",
      "Accuracy: 66.88\n"
     ]
    }
   ],
   "source": [
    "_, accuracy = model.evaluate(X_test, Y_test)\n",
    "print('Accuracy: %.2f' % (accuracy*100))"
   ]
  },
  {
   "cell_type": "code",
   "execution_count": null,
   "id": "4d2892be-f688-4ae8-b35e-6696378db8fb",
   "metadata": {},
   "outputs": [],
   "source": []
  },
  {
   "cell_type": "code",
   "execution_count": null,
   "id": "1835f321-685b-420a-98bd-795718510b96",
   "metadata": {},
   "outputs": [],
   "source": []
  },
  {
   "cell_type": "code",
   "execution_count": null,
   "id": "ecf6c07e-3b77-496e-ae19-3e091b41ab11",
   "metadata": {},
   "outputs": [],
   "source": []
  }
 ],
 "metadata": {
  "kernelspec": {
   "display_name": "Python 3.10 (ML Env)",
   "language": "python",
   "name": "python3_10"
  },
  "language_info": {
   "codemirror_mode": {
    "name": "ipython",
    "version": 3
   },
   "file_extension": ".py",
   "mimetype": "text/x-python",
   "name": "python",
   "nbconvert_exporter": "python",
   "pygments_lexer": "ipython3",
   "version": "3.10.13"
  }
 },
 "nbformat": 4,
 "nbformat_minor": 5
}
